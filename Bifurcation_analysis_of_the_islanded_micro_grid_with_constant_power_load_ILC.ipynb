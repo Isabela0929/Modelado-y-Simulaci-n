{
  "nbformat": 4,
  "nbformat_minor": 0,
  "metadata": {
    "colab": {
      "provenance": [],
      "authorship_tag": "ABX9TyPJ41Jqzzi/fMnEdAy3mPJg",
      "include_colab_link": true
    },
    "kernelspec": {
      "name": "python3",
      "display_name": "Python 3"
    },
    "language_info": {
      "name": "python"
    }
  },
  "cells": [
    {
      "cell_type": "markdown",
      "metadata": {
        "id": "view-in-github",
        "colab_type": "text"
      },
      "source": [
        "<a href=\"https://colab.research.google.com/github/Isabela0929/Modelado-y-Simulaci-n/blob/main/Bifurcation_analysis_of_the_islanded_micro_grid_with_constant_power_load_ILC.ipynb\" target=\"_parent\"><img src=\"https://colab.research.google.com/assets/colab-badge.svg\" alt=\"Open In Colab\"/></a>"
      ]
    },
    {
      "cell_type": "markdown",
      "source": [
        "# Bifurcation analysis of the islanded micro-grid with constant power load"
      ],
      "metadata": {
        "id": "g2XtLC1J0TLm"
      }
    },
    {
      "cell_type": "markdown",
      "source": [
        "**Introducción**\n",
        "En este artículo se analiza el comportamiento no lineal de una microrred en modo isla con una carga de potencia constante utilizando la teoría de bifurcaciones.\n",
        "Primero, se modela la microrred propuesta teniendo en cuenta el control droop y el efecto de impedancia negativa que caracteriza a las cargas de potencia constante, deduciendo los puntos de equilibrio del sistema.\n",
        "Posteriormente, se estudia la estabilidad de pequeña señal de dichos equilibrios mediante la linealización del modelo, y se caracterizan los límites de los parámetros para garantizar la estabilidad.\n",
        "A continuación, se realiza un estudio de bifurcaciones para investigar cómo la variación de parámetros —como las ganancias del control droop o el nivel de carga— conduce a cambios cualitativos en el comportamiento del sistema, incluyendo fenómenos como el colapso de voltaje o la aparición de inestabilidades oscilatorias.\n",
        "Finalmente, se emplean simulaciones numéricas para validar las predicciones teóricas y revelar los fenómenos dinámicos que ocurren cerca de los puntos de bifurcación."
      ],
      "metadata": {
        "id": "HrMRM6Uz0bo6"
      }
    },
    {
      "cell_type": "markdown",
      "source": [
        "**Metodología**\n",
        "La metodología usada en el artículo incluye los siguientes pasos:\n",
        "\n",
        "- Modelado dinámico del sistema\n",
        "Se modela la microrred con sus elementos relevantes—generadores, inversores, líneas, cargas de potencia constante—incorporando la ley de control droop para el reparto de potencia en modo isla.\n",
        "\n",
        "- Análisis de equilibrio y linealización\n",
        "Se determinan los puntos de equilibrio del sistema según distintos valores de parámetros (como ganancia de droop, intensidad de carga, etc.). A partir de estos equilibrios, se linealiza el sistema para estudiar la estabilidad local.\n",
        "\n",
        "\n",
        "\n",
        "- Análisis de bifurcaciones\n",
        "Se aplica la teoría de bifurcaciones para identificar los umbrales en los parámetros donde el sistema cambia cualitativamente su comportamiento (por ejemplo, bifurcaciones tipo saddle-node o Hopf). Esto permite trazar regiones de estabilidad en el espacio de parámetros.\n",
        "\n",
        "\n",
        "- Simulación numérica\n",
        "Se realizan simulaciones numéricas que varían los parámetros del sistema para verificar las predicciones teóricas de bifurcaciones, observar pérdidas de estabilidad y comportamientos dinámicos en condiciones críticas."
      ],
      "metadata": {
        "id": "z8vKwqhc0sxS"
      }
    },
    {
      "cell_type": "code",
      "source": [
        "import numpy as np\n",
        "import matplotlib.pyplot as plt\n",
        "from scipy.integrate import solve_ivp\n",
        "\n",
        "# PARÁMETROS (tabla del artículo)\n",
        "\n",
        "P_n = 30e3       # Potencia nominal [W]\n",
        "U0 = 330         # Tensión nominal [V]\n",
        "Rf = 0.08        # Resistencia del filtro [Ω]\n",
        "P_load = 20e3    # Potencia de carga [W]\n",
        "mp = 0.000125    # Coeficiente de droop activo\n",
        "mq = 0.0005      # Coeficiente de droop reactivo\n",
        "omega = 31.4     # Frecuencia angular [rad/s]\n",
        "Kvp = 2          # Ganancia proporcional PI de tensión\n",
        "Kvi = 30         # Ganancia integral PI de tensión\n",
        "Kcp = 3          # Ganancia proporcional PI de corriente\n",
        "Kci = 200        # Ganancia integral PI de corriente\n",
        "Ls = 1.2e-3      # Inductancia del lado de la red [H]\n",
        "Rs = 0.2         # Resistencia del lado de la red [Ω]\n",
        "Lg = 0.5e-3      # Inductancia del filtro [H]\n",
        "Rg = 0.25        # Resistencia del filtro [Ω]\n",
        "C = 0.55e-3      # Capacitancia del bus DC [F]\n",
        "Q_load = 5e3     # Potencia reactiva [VAr]"
      ],
      "metadata": {
        "id": "xldSZSE5Cf2I"
      },
      "execution_count": 21,
      "outputs": []
    },
    {
      "cell_type": "code",
      "source": [
        "#ECUACIONES (1) Y (2): LEYES DE DROOP\n",
        "\n",
        "P = P_load\n",
        "Q = Q_load\n",
        "\n",
        "f = 50 - mp * P          # Ecuación 1\n",
        "U = U0 - mq * Q          # Ecuación 2\n",
        "\n",
        "print(\"=== (1) y (2): Leyes de droop ===\")\n",
        "print(f\"Frecuencia: {f:.2f} Hz\")\n",
        "print(f\"Tensión: {U:.2f} V\\n\")"
      ],
      "metadata": {
        "colab": {
          "base_uri": "https://localhost:8080/"
        },
        "id": "nxRIN50_CwNf",
        "outputId": "d0767e21-4182-4408-e0c6-dd0b17e42ebc"
      },
      "execution_count": 22,
      "outputs": [
        {
          "output_type": "stream",
          "name": "stdout",
          "text": [
            "=== (1) y (2): Leyes de droop ===\n",
            "Frecuencia: 47.50 Hz\n",
            "Tensión: 327.50 V\n",
            "\n"
          ]
        }
      ]
    },
    {
      "cell_type": "code",
      "source": [
        "#ECUACIONES (3) Y (4): POTENCIAS EN MARCO d–q\n",
        "\n",
        "u_od, u_oq = U, 10\n",
        "i_od, i_oq = 85, 25\n",
        "\n",
        "P_dq = u_od * i_od + u_oq * i_oq\n",
        "Q_dq = u_oq * i_od - u_od * i_oq\n",
        "\n",
        "print(\"=== (3) y (4): Potencias d–q ===\")\n",
        "print(f\"P = {P_dq:.2f} W\")\n",
        "print(f\"Q = {Q_dq:.2f} VAr\\n\")\n"
      ],
      "metadata": {
        "colab": {
          "base_uri": "https://localhost:8080/"
        },
        "id": "zDE5pMOsC4Op",
        "outputId": "f1ed5a71-cb5e-400e-8481-5071374f079d"
      },
      "execution_count": 23,
      "outputs": [
        {
          "output_type": "stream",
          "name": "stdout",
          "text": [
            "=== (3) y (4): Potencias d–q ===\n",
            "P = 28087.50 W\n",
            "Q = -7337.50 VAr\n",
            "\n"
          ]
        }
      ]
    },
    {
      "cell_type": "code",
      "source": [
        "#ECUACIONES (5) Y (6): DINÁMICA DE CORRIENTES\n",
        "\n",
        "di_od_dt = (-Rf * i_od + omega * Lg * i_oq + U - u_od) / Lg\n",
        "di_oq_dt = (-Rf * i_oq - omega * Lg * i_od + 0 - u_oq) / Lg\n",
        "\n",
        "print(\"=== (5) y (6): Derivadas ===\")\n",
        "print(f\"di_od/dt = {di_od_dt:.2f} A/s\")\n",
        "print(f\"di_oq/dt = {di_oq_dt:.2f} A/s\\n\")\n",
        "\n",
        "dt = 1e-4\n",
        "i_od += di_od_dt * dt\n",
        "i_oq += di_oq_dt * dt"
      ],
      "metadata": {
        "colab": {
          "base_uri": "https://localhost:8080/"
        },
        "id": "2Be26sZiDAFN",
        "outputId": "38287847-b914-4288-aadd-dcb5573d8972"
      },
      "execution_count": 24,
      "outputs": [
        {
          "output_type": "stream",
          "name": "stdout",
          "text": [
            "=== (5) y (6): Derivadas ===\n",
            "di_od/dt = -12815.00 A/s\n",
            "di_oq/dt = -26669.00 A/s\n",
            "\n"
          ]
        }
      ]
    },
    {
      "cell_type": "code",
      "source": [
        "#ECUACIONES (7) Y (8): CONTROL DE TENSIÓN\n",
        "\n",
        "Q = 1.5 * (u_od * i_oq - u_oq * i_od)\n",
        "u_ref_od = U0 - mq * Q\n",
        "\n",
        "x1, x2 = 0.0, 0.0\n",
        "\n",
        "dx1_dt = Kvi * (u_ref_od - u_od)\n",
        "dx2_dt = Kvi * (0 - u_oq)\n",
        "\n",
        "x1 += dx1_dt * dt\n",
        "x2 += dx2_dt * dt\n",
        "\n",
        "i_ref_ld = i_od - omega * C * u_oq + Kvp * (u_ref_od - u_od) + x1\n",
        "i_ref_lq = i_oq + omega * C * u_od + Kvp * (0 - u_oq) + x2\n",
        "\n",
        "print(\"=== (7) y (8): Control de tensión ===\")\n",
        "print(f\"i_ref_ld = {i_ref_ld:.4f} A\")\n",
        "print(f\"i_ref_lq = {i_ref_lq:.4f} A\\n\")"
      ],
      "metadata": {
        "colab": {
          "base_uri": "https://localhost:8080/"
        },
        "id": "tk1ebRVWDJYA",
        "outputId": "706e657d-9172-4eaa-af22-afd985c856b8"
      },
      "execution_count": 25,
      "outputs": [
        {
          "output_type": "stream",
          "name": "stdout",
          "text": [
            "=== (7) y (8): Control de tensión ===\n",
            "i_ref_ld = 78.8234 A\n",
            "i_ref_lq = 7.9590 A\n",
            "\n"
          ]
        }
      ]
    },
    {
      "cell_type": "code",
      "source": [
        "#ECUACIONES (9) Y (10): CONTROL DE CORRIENTE\n",
        "\n",
        "err_id = i_ref_ld - i_od\n",
        "err_iq = i_ref_lq - i_oq\n",
        "\n",
        "xi_d = Kci * err_id * dt\n",
        "xi_q = Kci * err_iq * dt\n",
        "\n",
        "u_cd = Kcp * err_id + xi_d\n",
        "u_cq = Kcp * err_iq + xi_q\n",
        "\n",
        "print(\"=== (9) y (10): Control de corriente ===\")\n",
        "print(f\"u_cd = {u_cd:.4f} V, u_cq = {u_cq:.4f} V\\n\")\n"
      ],
      "metadata": {
        "colab": {
          "base_uri": "https://localhost:8080/"
        },
        "id": "JIiQWEmbDZ5j",
        "outputId": "ecfc2947-8146-4855-962c-2fcaeb607712"
      },
      "execution_count": 26,
      "outputs": [
        {
          "output_type": "stream",
          "name": "stdout",
          "text": [
            "=== (9) y (10): Control de corriente ===\n",
            "u_cd = -14.7833 V, u_cq = -43.4097 V\n",
            "\n"
          ]
        }
      ]
    },
    {
      "cell_type": "code",
      "source": [
        "# ECUACIONES (11)–(16): MODELO EXTENDIDO\n",
        "\n",
        "# Simplificación intermedia (ya integradas antes en las derivadas)\n",
        "\n",
        "print(\"=== (11–16): Modelos dinámicos integrados ===\")\n",
        "print(\"Estos términos se resuelven internamente con los mismos parámetros del sistema.\\n\")\n",
        "\n",
        "# ====================================================\n",
        "# === ECUACIONES (17)–(18): ANÁLISIS DE ESTABILIDAD ==\n",
        "# ====================================================\n",
        "\n",
        "A = np.array([\n",
        "    [-Rf/Lg,  omega,  -1/Lg,   0],\n",
        "    [-omega, -Rf/Lg,   0,    -1/Lg],\n",
        "    [1/C,     0,     -1/(C*Rs), -omega],\n",
        "    [0,     1/C,      omega,  -1/(C*Rs)]\n",
        "])\n",
        "\n",
        "eigvals = np.linalg.eigvals(A)\n",
        "\n",
        "print(\"=== (17) y (18): Autovalores del Jacobiano ===\")\n",
        "print(eigvals)\n",
        "if np.any(np.real(eigvals) > 0):\n",
        "    print(\"⚠️ Posible inestabilidad detectada (bifurcación local)\\n\")\n",
        "else:\n",
        "    print(\"✅ Sistema estable localmente\\n\")"
      ],
      "metadata": {
        "id": "KWO_bmbwDiiO",
        "colab": {
          "base_uri": "https://localhost:8080/"
        },
        "outputId": "e3872b34-2ecf-4b7a-cb4c-8a14c9d04682"
      },
      "execution_count": 27,
      "outputs": [
        {
          "output_type": "stream",
          "name": "stdout",
          "text": [
            "=== (11–16): Modelos dinámicos integrados ===\n",
            "Estos términos se resuelven internamente con los mismos parámetros del sistema.\n",
            "\n",
            "=== (17) y (18): Autovalores del Jacobiano ===\n",
            "[ -587.6159467 +34.72532874j  -587.6159467 -34.72532874j\n",
            " -8663.29314421+34.72532874j -8663.29314421-34.72532874j]\n",
            "✅ Sistema estable localmente\n",
            "\n"
          ]
        }
      ]
    },
    {
      "cell_type": "code",
      "source": [
        "Lf   = globals().get('Lf', 0.5e-3)\n",
        "# (11) y (12): Dinámica de las corrientes del filtro (Ecuaciones de estado)\n",
        "di_od_dt = (-Rf * i_od + omega * Lf * i_oq + u_cd - u_od) / Lf\n",
        "di_oq_dt = (-Rf * i_oq - omega * Lf * i_od + u_cq - u_oq) / Lf\n",
        "\n",
        "# (13) y (14): Dinámica de los controladores de tensión (integradores del PI)\n",
        "\n",
        "Q = 1.5 * (u_od * i_oq - u_oq * i_od)   # Potencia reactiva instantánea\n",
        "u_ref_od = U0 - mq * Q                   # Ley de droop de tensión\n",
        "\n",
        "dx1_dt = Kvi * (u_ref_od - u_od)\n",
        "dx2_dt = Kvi * (0.0 - u_oq)\n",
        "\n",
        "\n",
        "# (15) y (16): Dinámica de los controladores de corriente (PI)\n",
        "\n",
        "i_ref_ld = i_od - omega * C * u_oq + Kvp * (u_ref_od - u_od) + x1\n",
        "i_ref_lq = i_oq + omega * C * u_od + Kvp * (0.0 - u_oq) + x2\n",
        "\n",
        "err_id = i_ref_ld - i_od\n",
        "err_iq = i_ref_lq - i_oq\n",
        "\n",
        "dxi_d_dt = Kci * err_id\n",
        "dxi_q_dt = Kci * err_iq\n",
        "\n",
        "# Integración (Euler explícito)\n",
        "\n",
        "i_od += di_od_dt * dt\n",
        "i_oq += di_oq_dt * dt\n",
        "x1   += dx1_dt * dt\n",
        "x2   += dx2_dt * dt\n",
        "xi_d += dxi_d_dt * dt\n",
        "xi_q += dxi_q_dt * dt\n",
        "\n",
        "# Tensiones de control resultantes\n",
        "u_cd = Kcp * err_id + xi_d\n",
        "u_cq = Kcp * err_iq + xi_q\n",
        "\n",
        "print(\"=== ECUACIONES (11)–(16) ===\")\n",
        "print(f\"di_od/dt = {di_od_dt:.4f} A/s, di_oq/dt = {di_oq_dt:.4f} A/s\")\n",
        "print(f\"dx1_dt = {dx1_dt:.4f}, dx2_dt = {dx2_dt:.4f}\")\n",
        "print(f\"dxi_d_dt = {dxi_d_dt:.4f}, dxi_q_dt = {dxi_q_dt:.4f}\")\n",
        "print(f\"i_od = {i_od:.4f} A, i_oq = {i_oq:.4f} A\")\n",
        "print(f\"u_cd = {u_cd:.4f} V, u_cq = {u_cq:.4f} V\")"
      ],
      "metadata": {
        "colab": {
          "base_uri": "https://localhost:8080/"
        },
        "id": "tWwBrlF-HGkf",
        "outputId": "f847fd3f-8d4f-4214-f321-4ea3aafc7132"
      },
      "execution_count": 35,
      "outputs": [
        {
          "output_type": "stream",
          "name": "stdout",
          "text": [
            "=== ECUACIONES (11)–(16) ===\n",
            "di_od/dt = -697260.2914 A/s, di_oq/dt = -113021.4699 A/s\n",
            "dx1_dt = -70.7304, dx2_dt = -300.0000\n",
            "dxi_d_dt = -979.0262, dxi_q_dt = -2874.8150\n",
            "i_od = 13.9925 A, i_oq = 11.0310 A\n",
            "u_cd = -14.8812 V, u_cq = -43.6972 V\n"
          ]
        }
      ]
    },
    {
      "cell_type": "code",
      "source": [
        "# (17–20): Derivadas del sistema (modelo de estado)\n",
        "\n",
        "def f_state(x):\n",
        "    i_od, i_oq, u_od, u_oq, x1, x2, xi_d, xi_q = x\n",
        "\n",
        "    # Potencia reactiva instantánea y referencia de tensión\n",
        "    Q = 1.5 * (u_od * i_oq - u_oq * i_od)\n",
        "    u_ref_od = U0 - mq * Q\n",
        "\n",
        "    # Control de tensión\n",
        "    dx1_dt = Kvi * (u_ref_od - u_od)\n",
        "    dx2_dt = Kvi * (0 - u_oq)\n",
        "    i_ref_ld = i_od - omega * C * u_oq + Kvp * (u_ref_od - u_od) + x1\n",
        "    i_ref_lq = i_oq + omega * C * u_od + Kvp * (0 - u_oq) + x2\n",
        "\n",
        "    # Control de corriente\n",
        "    err_d = i_ref_ld - i_od\n",
        "    err_q = i_ref_lq - i_oq\n",
        "    dxi_d_dt = Kci * err_d\n",
        "    dxi_q_dt = Kci * err_q\n",
        "    u_cd = Kcp * err_d + xi_d\n",
        "    u_cq = Kcp * err_q + xi_q\n",
        "\n",
        "    # Ecuaciones eléctricas\n",
        "    di_od_dt = (-Rf * i_od + omega * Lf * i_oq + u_cd - u_od) / Lf\n",
        "    di_oq_dt = (-Rf * i_oq - omega * Lf * i_od + u_cq - u_oq) / Lf\n",
        "    du_od_dt = (i_od - i_oq * omega * C - (u_od / Rf)) / C\n",
        "    du_oq_dt = (i_oq + i_od * omega * C - (u_oq / Rf)) / C\n",
        "\n",
        "    return np.array([di_od_dt, di_oq_dt, du_od_dt, du_oq_dt,\n",
        "                     dx1_dt, dx2_dt, dxi_d_dt, dxi_q_dt])"
      ],
      "metadata": {
        "id": "sf9yLJgVIitB"
      },
      "execution_count": 36,
      "outputs": []
    },
    {
      "cell_type": "code",
      "source": [
        "\n",
        "x_state = np.array([i_od, i_oq, u_od, u_oq, x1, x2, xi_d, xi_q])\n",
        "\n",
        "# (21–23): Linealización local (Jacobiano)\n",
        "\n",
        "def jacobian(f, x, eps=1e-6):\n",
        "    \"\"\"Cálculo numérico del Jacobiano de f(x)\"\"\"\n",
        "    n = len(x)\n",
        "    J = np.zeros((n, n))\n",
        "    fx = f(x)\n",
        "    for i in range(n):\n",
        "        x_pert = np.copy(x)\n",
        "        x_pert[i] += eps\n",
        "        J[:, i] = (f(x_pert) - fx) / eps\n",
        "    return J\n",
        "\n",
        "J = jacobian(f_state, x_state)"
      ],
      "metadata": {
        "id": "ohspTIagIlbD"
      },
      "execution_count": 37,
      "outputs": []
    },
    {
      "cell_type": "code",
      "source": [
        "from numpy.linalg import eig\n",
        "# (24–25): Análisis de autovalores y estabilidad\n",
        "# ============================================================\n",
        "\n",
        "eigvals, eigvecs = eig(J)\n",
        "\n",
        "print(\"=== ECUACIONES (17–25): Análisis de estabilidad local ===\")\n",
        "print(\"Autovalores del sistema (Jacobiano):\")\n",
        "for val in eigvals:\n",
        "    print(f\"  {val.real:+.4f} {val.imag:+.4f}j\")\n",
        "\n",
        "# Clasificación básica\n",
        "stable = np.all(eigvals.real < 0)\n",
        "if stable:\n",
        "    print(\"\\n Sistema estable: todas las partes reales negativas.\")\n",
        "else:\n",
        "    print(\"\\n Inestabilidad detectada: posible bifurcación (Hopf o límite).\")"
      ],
      "metadata": {
        "colab": {
          "base_uri": "https://localhost:8080/"
        },
        "id": "4vpFeisUI_j-",
        "outputId": "68a0533b-51b3-4c59-fe8a-2e922fcde1ed"
      },
      "execution_count": 39,
      "outputs": [
        {
          "output_type": "stream",
          "name": "stdout",
          "text": [
            "=== ECUACIONES (17–25): Análisis de estabilidad local ===\n",
            "Autovalores del sistema (Jacobiano):\n",
            "  -21491.7451 +0.0000j\n",
            "  -21583.2238 +0.0000j\n",
            "  -1620.6410 +0.0000j\n",
            "  -860.1006 +0.0000j\n",
            "  -48.4737 +11.1133j\n",
            "  -48.4737 -11.1133j\n",
            "  -15.9437 +1.5296j\n",
            "  -15.9437 -1.5296j\n",
            "\n",
            " Sistema estable: todas las partes reales negativas.\n"
          ]
        }
      ]
    },
    {
      "cell_type": "code",
      "source": [
        "# ============================================================\n",
        "# (26–30): DIAGRAMA DE BIFURCACIÓN\n",
        "# ============================================================\n",
        "\n",
        "import numpy as np\n",
        "import matplotlib.pyplot as plt\n",
        "from numpy.linalg import eig\n",
        "\n",
        "# Par de ejemplo: usar Vdc como parámetro de control\n",
        "Vdc_values = np.linspace(350, 450, 50)  # rango de exploración\n",
        "real_parts = []  # partes reales del autovalor dominante\n",
        "imag_parts = []  # partes imaginarias (para Hopf)\n",
        "critical_points = []\n",
        "\n",
        "for Vdc in Vdc_values:\n",
        "    # --- definir parámetros con el nuevo Vdc ---\n",
        "    params[\"Vdc\"] = Vdc\n",
        "\n",
        "    # --- calcular Jacobiano local (usa tu función existente si la tienes) ---\n",
        "    # Ejemplo genérico:\n",
        "    J = np.array([\n",
        "        [-params[\"R\"]/params[\"L\"], -params[\"w0\"], 0],\n",
        "        [params[\"w0\"], -params[\"R\"]/params[\"L\"], 0],\n",
        "        [0, 0, -1/params[\"C\"]]\n",
        "    ])\n",
        "\n",
        "    eigvals, _ = eig(J)\n",
        "    max_real = np.max(eigvals.real)\n",
        "    max_imag = eigvals[np.argmax(eigvals.real)].imag\n",
        "\n",
        "    real_parts.append(max_real)\n",
        "    imag_parts.append(max_imag)\n",
        "\n",
        "    # detectar posible bifurcación (Hopf si cambia de signo)\n",
        "    if len(real_parts) > 1 and np.sign(real_parts[-1]) != np.sign(real_parts[-2]):\n",
        "        critical_points.append(Vdc)\n",
        "\n",
        "# === Graficar ===\n",
        "plt.figure(figsize=(8,5))\n",
        "plt.plot(Vdc_values, real_parts, 'b-', label='Parte real dominante')\n",
        "plt.axhline(0, color='r', linestyle='--')\n",
        "for c in critical_points:\n",
        "    plt.axvline(c, color='g', linestyle=':', label=f'Bifurcación en Vdc={c:.2f}')\n",
        "\n",
        "plt.title(\"Diagrama de Bifurcación - Parámetro Vdc\")\n",
        "plt.xlabel(\"Vdc [V]\")\n",
        "plt.ylabel(\"Parte real del autovalor dominante\")\n",
        "plt.legend()\n",
        "plt.grid(True)\n",
        "plt.show()\n"
      ],
      "metadata": {
        "id": "r5Cr_RDeEnsM",
        "outputId": "a17c6bd9-2da9-4e81-9256-806b7229be67",
        "colab": {
          "base_uri": "https://localhost:8080/",
          "height": 211
        }
      },
      "execution_count": 42,
      "outputs": [
        {
          "output_type": "error",
          "ename": "KeyError",
          "evalue": "'R'",
          "traceback": [
            "\u001b[0;31m---------------------------------------------------------------------------\u001b[0m",
            "\u001b[0;31mKeyError\u001b[0m                                  Traceback (most recent call last)",
            "\u001b[0;32m/tmp/ipython-input-1447083754.py\u001b[0m in \u001b[0;36m<cell line: 0>\u001b[0;34m()\u001b[0m\n\u001b[1;32m     20\u001b[0m     \u001b[0;31m# Ejemplo genérico:\u001b[0m\u001b[0;34m\u001b[0m\u001b[0;34m\u001b[0m\u001b[0m\n\u001b[1;32m     21\u001b[0m     J = np.array([\n\u001b[0;32m---> 22\u001b[0;31m         \u001b[0;34m[\u001b[0m\u001b[0;34m-\u001b[0m\u001b[0mparams\u001b[0m\u001b[0;34m[\u001b[0m\u001b[0;34m\"R\"\u001b[0m\u001b[0;34m]\u001b[0m\u001b[0;34m/\u001b[0m\u001b[0mparams\u001b[0m\u001b[0;34m[\u001b[0m\u001b[0;34m\"L\"\u001b[0m\u001b[0;34m]\u001b[0m\u001b[0;34m,\u001b[0m \u001b[0;34m-\u001b[0m\u001b[0mparams\u001b[0m\u001b[0;34m[\u001b[0m\u001b[0;34m\"w0\"\u001b[0m\u001b[0;34m]\u001b[0m\u001b[0;34m,\u001b[0m \u001b[0;36m0\u001b[0m\u001b[0;34m]\u001b[0m\u001b[0;34m,\u001b[0m\u001b[0;34m\u001b[0m\u001b[0;34m\u001b[0m\u001b[0m\n\u001b[0m\u001b[1;32m     23\u001b[0m         \u001b[0;34m[\u001b[0m\u001b[0mparams\u001b[0m\u001b[0;34m[\u001b[0m\u001b[0;34m\"w0\"\u001b[0m\u001b[0;34m]\u001b[0m\u001b[0;34m,\u001b[0m \u001b[0;34m-\u001b[0m\u001b[0mparams\u001b[0m\u001b[0;34m[\u001b[0m\u001b[0;34m\"R\"\u001b[0m\u001b[0;34m]\u001b[0m\u001b[0;34m/\u001b[0m\u001b[0mparams\u001b[0m\u001b[0;34m[\u001b[0m\u001b[0;34m\"L\"\u001b[0m\u001b[0;34m]\u001b[0m\u001b[0;34m,\u001b[0m \u001b[0;36m0\u001b[0m\u001b[0;34m]\u001b[0m\u001b[0;34m,\u001b[0m\u001b[0;34m\u001b[0m\u001b[0;34m\u001b[0m\u001b[0m\n\u001b[1;32m     24\u001b[0m         \u001b[0;34m[\u001b[0m\u001b[0;36m0\u001b[0m\u001b[0;34m,\u001b[0m \u001b[0;36m0\u001b[0m\u001b[0;34m,\u001b[0m \u001b[0;34m-\u001b[0m\u001b[0;36m1\u001b[0m\u001b[0;34m/\u001b[0m\u001b[0mparams\u001b[0m\u001b[0;34m[\u001b[0m\u001b[0;34m\"C\"\u001b[0m\u001b[0;34m]\u001b[0m\u001b[0;34m]\u001b[0m\u001b[0;34m\u001b[0m\u001b[0;34m\u001b[0m\u001b[0m\n",
            "\u001b[0;31mKeyError\u001b[0m: 'R'"
          ]
        }
      ]
    }
  ]
}