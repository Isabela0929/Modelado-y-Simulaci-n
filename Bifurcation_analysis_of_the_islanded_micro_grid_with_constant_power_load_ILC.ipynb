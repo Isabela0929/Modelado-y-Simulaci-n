{
  "nbformat": 4,
  "nbformat_minor": 0,
  "metadata": {
    "colab": {
      "provenance": [],
      "authorship_tag": "ABX9TyOn5wue/9dZEf6ld/9snC3l",
      "include_colab_link": true
    },
    "kernelspec": {
      "name": "python3",
      "display_name": "Python 3"
    },
    "language_info": {
      "name": "python"
    }
  },
  "cells": [
    {
      "cell_type": "markdown",
      "metadata": {
        "id": "view-in-github",
        "colab_type": "text"
      },
      "source": [
        "<a href=\"https://colab.research.google.com/github/Isabela0929/Modelado-y-Simulaci-n/blob/main/Bifurcation_analysis_of_the_islanded_micro_grid_with_constant_power_load_ILC.ipynb\" target=\"_parent\"><img src=\"https://colab.research.google.com/assets/colab-badge.svg\" alt=\"Open In Colab\"/></a>"
      ]
    },
    {
      "cell_type": "markdown",
      "source": [
        "# Bifurcation analysis of the islanded micro-grid with constant power load"
      ],
      "metadata": {
        "id": "g2XtLC1J0TLm"
      }
    },
    {
      "cell_type": "markdown",
      "source": [
        "**Introducción**\n",
        "En este artículo se analiza el comportamiento no lineal de una microrred en modo isla con una carga de potencia constante utilizando la teoría de bifurcaciones.\n",
        "Primero, se modela la microrred propuesta teniendo en cuenta el control droop y el efecto de impedancia negativa que caracteriza a las cargas de potencia constante, deduciendo los puntos de equilibrio del sistema.\n",
        "Posteriormente, se estudia la estabilidad de pequeña señal de dichos equilibrios mediante la linealización del modelo, y se caracterizan los límites de los parámetros para garantizar la estabilidad.\n",
        "A continuación, se realiza un estudio de bifurcaciones para investigar cómo la variación de parámetros —como las ganancias del control droop o el nivel de carga— conduce a cambios cualitativos en el comportamiento del sistema, incluyendo fenómenos como el colapso de voltaje o la aparición de inestabilidades oscilatorias.\n",
        "Finalmente, se emplean simulaciones numéricas para validar las predicciones teóricas y revelar los fenómenos dinámicos que ocurren cerca de los puntos de bifurcación."
      ],
      "metadata": {
        "id": "HrMRM6Uz0bo6"
      }
    },
    {
      "cell_type": "markdown",
      "source": [
        "**Metodología**\n",
        "La metodología usada en el artículo incluye los siguientes pasos:\n",
        "\n",
        "- Modelado dinámico del sistema\n",
        "Se modela la microrred con sus elementos relevantes—generadores, inversores, líneas, cargas de potencia constante—incorporando la ley de control droop para el reparto de potencia en modo isla.\n",
        "\n",
        "- Análisis de equilibrio y linealización\n",
        "Se determinan los puntos de equilibrio del sistema según distintos valores de parámetros (como ganancia de droop, intensidad de carga, etc.). A partir de estos equilibrios, se linealiza el sistema para estudiar la estabilidad local.\n",
        "\n",
        "\n",
        "\n",
        "- Análisis de bifurcaciones\n",
        "Se aplica la teoría de bifurcaciones para identificar los umbrales en los parámetros donde el sistema cambia cualitativamente su comportamiento (por ejemplo, bifurcaciones tipo saddle-node o Hopf). Esto permite trazar regiones de estabilidad en el espacio de parámetros.\n",
        "\n",
        "\n",
        "- Simulación numérica\n",
        "Se realizan simulaciones numéricas que varían los parámetros del sistema para verificar las predicciones teóricas de bifurcaciones, observar pérdidas de estabilidad y comportamientos dinámicos en condiciones críticas."
      ],
      "metadata": {
        "id": "z8vKwqhc0sxS"
      }
    },
    {
      "cell_type": "code",
      "source": [
        "import numpy as np\n",
        "import matplotlib.pyplot as plt\n",
        "from scipy.integrate import solve_ivp\n",
        "\n",
        "# PARÁMETROS (tabla del artículo)\n",
        "\n",
        "P_n = 30e3       # Potencia nominal [W]\n",
        "U0 = 330         # Tensión nominal [V]\n",
        "Rf = 0.08        # Resistencia del filtro [Ω]\n",
        "P_load = 20e3    # Potencia de carga [W]\n",
        "mp = 0.000125    # Coeficiente de droop activo\n",
        "mq = 0.0005      # Coeficiente de droop reactivo\n",
        "omega = 31.4     # Frecuencia angular [rad/s]\n",
        "Kvp = 2          # Ganancia proporcional PI de tensión\n",
        "Kvi = 30         # Ganancia integral PI de tensión\n",
        "Kcp = 3          # Ganancia proporcional PI de corriente\n",
        "Kci = 200        # Ganancia integral PI de corriente\n",
        "Ls = 1.2e-3      # Inductancia del lado de la red [H]\n",
        "Rs = 0.2         # Resistencia del lado de la red [Ω]\n",
        "Lg = 0.5e-3      # Inductancia del filtro [H]\n",
        "Rg = 0.25        # Resistencia del filtro [Ω]\n",
        "C = 0.55e-3      # Capacitancia del bus DC [F]\n",
        "Q_load = 5e3     # Potencia reactiva [VAr]"
      ],
      "metadata": {
        "id": "xldSZSE5Cf2I"
      },
      "execution_count": 21,
      "outputs": []
    },
    {
      "cell_type": "code",
      "source": [
        "#ECUACIONES (1) Y (2): LEYES DE DROOP\n",
        "\n",
        "P = P_load\n",
        "Q = Q_load\n",
        "\n",
        "f = 50 - mp * P          # Ecuación 1\n",
        "U = U0 - mq * Q          # Ecuación 2\n",
        "\n",
        "print(\"=== (1) y (2): Leyes de droop ===\")\n",
        "print(f\"Frecuencia: {f:.2f} Hz\")\n",
        "print(f\"Tensión: {U:.2f} V\\n\")"
      ],
      "metadata": {
        "colab": {
          "base_uri": "https://localhost:8080/"
        },
        "id": "nxRIN50_CwNf",
        "outputId": "4252f846-a812-422c-b252-4efa9c846e6c"
      },
      "execution_count": 22,
      "outputs": [
        {
          "output_type": "stream",
          "name": "stdout",
          "text": [
            "=== (1) y (2): Leyes de droop ===\n",
            "Frecuencia: 47.50 Hz\n",
            "Tensión: 327.50 V\n",
            "\n"
          ]
        }
      ]
    },
    {
      "cell_type": "code",
      "source": [
        "#ECUACIONES (3) Y (4): POTENCIAS EN MARCO d–q\n",
        "\n",
        "u_od, u_oq = U, 10\n",
        "i_od, i_oq = 85, 25\n",
        "\n",
        "P_dq = u_od * i_od + u_oq * i_oq\n",
        "Q_dq = u_oq * i_od - u_od * i_oq\n",
        "\n",
        "print(\"=== (3) y (4): Potencias d–q ===\")\n",
        "print(f\"P = {P_dq:.2f} W\")\n",
        "print(f\"Q = {Q_dq:.2f} VAr\\n\")\n"
      ],
      "metadata": {
        "colab": {
          "base_uri": "https://localhost:8080/"
        },
        "id": "zDE5pMOsC4Op",
        "outputId": "9eba9203-972f-4a9c-e37f-86ca29810cba"
      },
      "execution_count": 23,
      "outputs": [
        {
          "output_type": "stream",
          "name": "stdout",
          "text": [
            "=== (3) y (4): Potencias d–q ===\n",
            "P = 28087.50 W\n",
            "Q = -7337.50 VAr\n",
            "\n"
          ]
        }
      ]
    },
    {
      "cell_type": "code",
      "source": [
        "#ECUACIONES (5) Y (6): DINÁMICA DE CORRIENTES\n",
        "\n",
        "di_od_dt = (-Rf * i_od + omega * Lg * i_oq + U - u_od) / Lg\n",
        "di_oq_dt = (-Rf * i_oq - omega * Lg * i_od + 0 - u_oq) / Lg\n",
        "\n",
        "print(\"=== (5) y (6): Derivadas ===\")\n",
        "print(f\"di_od/dt = {di_od_dt:.2f} A/s\")\n",
        "print(f\"di_oq/dt = {di_oq_dt:.2f} A/s\\n\")\n",
        "\n",
        "dt = 1e-4\n",
        "i_od += di_od_dt * dt\n",
        "i_oq += di_oq_dt * dt"
      ],
      "metadata": {
        "colab": {
          "base_uri": "https://localhost:8080/"
        },
        "id": "2Be26sZiDAFN",
        "outputId": "a6fcccf1-a1db-45e9-df6e-c7d60235db98"
      },
      "execution_count": 24,
      "outputs": [
        {
          "output_type": "stream",
          "name": "stdout",
          "text": [
            "=== (5) y (6): Derivadas ===\n",
            "di_od/dt = -12815.00 A/s\n",
            "di_oq/dt = -26669.00 A/s\n",
            "\n"
          ]
        }
      ]
    },
    {
      "cell_type": "code",
      "source": [
        "#ECUACIONES (7) Y (8): CONTROL DE TENSIÓN\n",
        "\n",
        "Q = 1.5 * (u_od * i_oq - u_oq * i_od)\n",
        "u_ref_od = U0 - mq * Q\n",
        "\n",
        "x1, x2 = 0.0, 0.0\n",
        "\n",
        "dx1_dt = Kvi * (u_ref_od - u_od)\n",
        "dx2_dt = Kvi * (0 - u_oq)\n",
        "\n",
        "x1 += dx1_dt * dt\n",
        "x2 += dx2_dt * dt\n",
        "\n",
        "i_ref_ld = i_od - omega * C * u_oq + Kvp * (u_ref_od - u_od) + x1\n",
        "i_ref_lq = i_oq + omega * C * u_od + Kvp * (0 - u_oq) + x2\n",
        "\n",
        "print(\"=== (7) y (8): Control de tensión ===\")\n",
        "print(f\"i_ref_ld = {i_ref_ld:.4f} A\")\n",
        "print(f\"i_ref_lq = {i_ref_lq:.4f} A\\n\")"
      ],
      "metadata": {
        "colab": {
          "base_uri": "https://localhost:8080/"
        },
        "id": "tk1ebRVWDJYA",
        "outputId": "5cdf08b8-f902-4590-f994-4dacf7b8cd7c"
      },
      "execution_count": 25,
      "outputs": [
        {
          "output_type": "stream",
          "name": "stdout",
          "text": [
            "=== (7) y (8): Control de tensión ===\n",
            "i_ref_ld = 78.8234 A\n",
            "i_ref_lq = 7.9590 A\n",
            "\n"
          ]
        }
      ]
    },
    {
      "cell_type": "code",
      "source": [
        "#ECUACIONES (9) Y (10): CONTROL DE CORRIENTE\n",
        "\n",
        "err_id = i_ref_ld - i_od\n",
        "err_iq = i_ref_lq - i_oq\n",
        "\n",
        "xi_d = Kci * err_id * dt\n",
        "xi_q = Kci * err_iq * dt\n",
        "\n",
        "u_cd = Kcp * err_id + xi_d\n",
        "u_cq = Kcp * err_iq + xi_q\n",
        "\n",
        "print(\"=== (9) y (10): Control de corriente ===\")\n",
        "print(f\"u_cd = {u_cd:.4f} V, u_cq = {u_cq:.4f} V\\n\")\n"
      ],
      "metadata": {
        "colab": {
          "base_uri": "https://localhost:8080/"
        },
        "id": "JIiQWEmbDZ5j",
        "outputId": "fdc76f5d-211d-44cd-fee8-71cee8db1f06"
      },
      "execution_count": 26,
      "outputs": [
        {
          "output_type": "stream",
          "name": "stdout",
          "text": [
            "=== (9) y (10): Control de corriente ===\n",
            "u_cd = -14.7833 V, u_cq = -43.4097 V\n",
            "\n"
          ]
        }
      ]
    },
    {
      "cell_type": "code",
      "source": [
        "# ECUACIONES (11)–(16): MODELO EXTENDIDO\n",
        "\n",
        "# Simplificación intermedia (ya integradas antes en las derivadas)\n",
        "\n",
        "print(\"=== (11–16): Modelos dinámicos integrados ===\")\n",
        "print(\"Estos términos se resuelven internamente con los mismos parámetros del sistema.\\n\")\n",
        "\n",
        "# ====================================================\n",
        "# === ECUACIONES (17)–(18): ANÁLISIS DE ESTABILIDAD ==\n",
        "# ====================================================\n",
        "\n",
        "A = np.array([\n",
        "    [-Rf/Lg,  omega,  -1/Lg,   0],\n",
        "    [-omega, -Rf/Lg,   0,    -1/Lg],\n",
        "    [1/C,     0,     -1/(C*Rs), -omega],\n",
        "    [0,     1/C,      omega,  -1/(C*Rs)]\n",
        "])\n",
        "\n",
        "eigvals = np.linalg.eigvals(A)\n",
        "\n",
        "print(\"=== (17) y (18): Autovalores del Jacobiano ===\")\n",
        "print(eigvals)\n",
        "if np.any(np.real(eigvals) > 0):\n",
        "    print(\"⚠️ Posible inestabilidad detectada (bifurcación local)\\n\")\n",
        "else:\n",
        "    print(\"✅ Sistema estable localmente\\n\")"
      ],
      "metadata": {
        "id": "KWO_bmbwDiiO"
      },
      "execution_count": null,
      "outputs": []
    },
    {
      "cell_type": "code",
      "source": [
        "# (11) y (12): Dinámica de las corrientes del filtro (Ecuaciones de estado)\n",
        "di_od_dt = (-Rf * i_od + omega * Lf * i_oq + u_cd - u_od) / Lf\n",
        "di_oq_dt = (-Rf * i_oq - omega * Lf * i_od + u_cq - u_oq) / Lf\n",
        "\n",
        "# (13) y (14): Dinámica de los controladores de tensión (integradores del PI)\n",
        "\n",
        "Q = 1.5 * (u_od * i_oq - u_oq * i_od)   # Potencia reactiva instantánea\n",
        "u_ref_od = U0 - mq * Q                   # Ley de droop de tensión\n",
        "\n",
        "dx1_dt = Kvi * (u_ref_od - u_od)\n",
        "dx2_dt = Kvi * (0.0 - u_oq)\n",
        "\n",
        "\n",
        "# (15) y (16): Dinámica de los controladores de corriente (PI)\n",
        "\n",
        "i_ref_ld = i_od - omega * C * u_oq + Kvp * (u_ref_od - u_od) + x1\n",
        "i_ref_lq = i_oq + omega * C * u_od + Kvp * (0.0 - u_oq) + x2\n",
        "\n",
        "err_id = i_ref_ld - i_od\n",
        "err_iq = i_ref_lq - i_oq\n",
        "\n",
        "dxi_d_dt = Kci * err_id\n",
        "dxi_q_dt = Kci * err_iq\n",
        "\n",
        "# Integración (Euler explícito)\n",
        "\n",
        "i_od += di_od_dt * dt\n",
        "i_oq += di_oq_dt * dt\n",
        "x1   += dx1_dt * dt\n",
        "x2   += dx2_dt * dt\n",
        "xi_d += dxi_d_dt * dt\n",
        "xi_q += dxi_q_dt * dt\n",
        "\n",
        "# Tensiones de control resultantes\n",
        "u_cd = Kcp * err_id + xi_d\n",
        "u_cq = Kcp * err_iq + xi_q\n",
        "\n",
        "print(\"=== ECUACIONES (11)–(16) ===\")\n",
        "print(f\"di_od/dt = {di_od_dt:.4f} A/s, di_oq/dt = {di_oq_dt:.4f} A/s\")\n",
        "print(f\"dx1_dt = {dx1_dt:.4f}, dx2_dt = {dx2_dt:.4f}\")\n",
        "print(f\"dxi_d_dt = {dxi_d_dt:.4f}, dxi_q_dt = {dxi_q_dt:.4f}\")\n",
        "print(f\"i_od = {i_od:.4f} A, i_oq = {i_oq:.4f} A\")\n",
        "print(f\"u_cd = {u_cd:.4f} V, u_cq = {u_cq:.4f} V\")"
      ],
      "metadata": {
        "colab": {
          "base_uri": "https://localhost:8080/"
        },
        "id": "tWwBrlF-HGkf",
        "outputId": "254f8fb4-6ee6-402f-af26-47764366d71b"
      },
      "execution_count": 29,
      "outputs": [
        {
          "output_type": "stream",
          "name": "stdout",
          "text": [
            "=== ECUACIONES (11)–(16) ===\n",
            "di_od/dt = -189532.8847 A/s, di_oq/dt = -32158.9075 A/s\n",
            "dx1_dt = -30.7798, dx2_dt = -300.0000\n",
            "dxi_d_dt = -448.7768, dxi_q_dt = -2886.8150\n",
            "i_od = 26.1998 A, i_oq = 12.5180 A\n",
            "u_cd = -7.0435 V, u_cq = -44.4540 V\n"
          ]
        }
      ]
    },
    {
      "cell_type": "code",
      "source": [
        "# (17–20): Derivadas del sistema (modelo de estado)\n",
        "\n",
        "def f_state(x):\n",
        "    i_od, i_oq, u_od, u_oq, x1, x2, xi_d, xi_q = x\n",
        "\n",
        "    # Potencia reactiva instantánea y referencia de tensión\n",
        "    Q = 1.5 * (u_od * i_oq - u_oq * i_od)\n",
        "    u_ref_od = U0 - mq * Q\n",
        "\n",
        "    # Control de tensión\n",
        "    dx1_dt = Kvi * (u_ref_od - u_od)\n",
        "    dx2_dt = Kvi * (0 - u_oq)\n",
        "    i_ref_ld = i_od - omega * C * u_oq + Kvp * (u_ref_od - u_od) + x1\n",
        "    i_ref_lq = i_oq + omega * C * u_od + Kvp * (0 - u_oq) + x2\n",
        "\n",
        "    # Control de corriente\n",
        "    err_d = i_ref_ld - i_od\n",
        "    err_q = i_ref_lq - i_oq\n",
        "    dxi_d_dt = Kci * err_d\n",
        "    dxi_q_dt = Kci * err_q\n",
        "    u_cd = Kcp * err_d + xi_d\n",
        "    u_cq = Kcp * err_q + xi_q\n",
        "\n",
        "    # Ecuaciones eléctricas\n",
        "    di_od_dt = (-Rf * i_od + omega * Lf * i_oq + u_cd - u_od) / Lf\n",
        "    di_oq_dt = (-Rf * i_oq - omega * Lf * i_od + u_cq - u_oq) / Lf\n",
        "    du_od_dt = (i_od - i_oq * omega * C - (u_od / Rf)) / C\n",
        "    du_oq_dt = (i_oq + i_od * omega * C - (u_oq / Rf)) / C\n",
        "\n",
        "    return np.array([di_od_dt, di_oq_dt, du_od_dt, du_oq_dt,\n",
        "                     dx1_dt, dx2_dt, dxi_d_dt, dxi_q_dt])"
      ],
      "metadata": {
        "id": "sf9yLJgVIitB"
      },
      "execution_count": 30,
      "outputs": []
    },
    {
      "cell_type": "code",
      "source": [],
      "metadata": {
        "id": "ohspTIagIlbD"
      },
      "execution_count": null,
      "outputs": []
    },
    {
      "cell_type": "markdown",
      "source": [
        "otro"
      ],
      "metadata": {
        "id": "RIOLbbCyCenz"
      }
    },
    {
      "cell_type": "code",
      "source": [
        "# === ECUACIONES (1) Y (2): DROOP ===\n",
        "f0 = 50       # Frecuencia nominal [Hz]\n",
        "U0 = 330      # Tensión nominal [V]\n",
        "mp = 0.000125 # Coeficiente droop activo\n",
        "mq = 0.0005   # Coeficiente droop reactivo\n",
        "\n",
        "P = 10000     # Potencia activa [W]\n",
        "Q = 2000      # Potencia reactiva [VAr]\n",
        "\n",
        "f = f0 - mp * P          # Ecuación (1)\n",
        "U = U0 - mq * Q          # Ecuación (2)\n",
        "\n",
        "print(\"=== (1) y (2): Droop ===\")\n",
        "print(f\"f = {f:.2f} Hz\")\n",
        "print(f\"U = {U:.2f} V\")\n"
      ],
      "metadata": {
        "colab": {
          "base_uri": "https://localhost:8080/"
        },
        "id": "lxZPiftHC6f5",
        "outputId": "e0b25594-7c51-40fa-963f-fcc041f8d9a6"
      },
      "execution_count": 1,
      "outputs": [
        {
          "output_type": "stream",
          "name": "stdout",
          "text": [
            "=== (1) y (2): Droop ===\n",
            "f = 48.75 Hz\n",
            "U = 329.00 V\n"
          ]
        }
      ]
    },
    {
      "cell_type": "code",
      "source": [
        "# === ECUACIONES (3) Y (4): POTENCIAS D-Q ===\n",
        "u_od = 330   # Componente directa de tensión [V]\n",
        "u_oq = 10    # Componente cuadratura de tensión [V]\n",
        "i_od = 85    # Corriente directa [A]\n",
        "i_oq = 25    # Corriente cuadratura [A]\n",
        "\n",
        "P = u_od * i_od + u_oq * i_oq      # (3)\n",
        "Q = u_oq * i_od - u_od * i_oq      # (4)\n",
        "\n",
        "print(\"=== (3) y (4): Potencias ===\")\n",
        "print(f\"P = {P:.2f} W\")\n",
        "print(f\"Q = {Q:.2f} VAr\")\n"
      ],
      "metadata": {
        "colab": {
          "base_uri": "https://localhost:8080/"
        },
        "id": "FsuWVB9ZC9qx",
        "outputId": "d1a322c5-9565-4b85-f6d4-8a8daf286299"
      },
      "execution_count": 2,
      "outputs": [
        {
          "output_type": "stream",
          "name": "stdout",
          "text": [
            "=== (3) y (4): Potencias ===\n",
            "P = 28300.00 W\n",
            "Q = -7400.00 VAr\n"
          ]
        }
      ]
    },
    {
      "cell_type": "code",
      "source": [
        "# === ECUACIONES (5) Y (6): DINÁMICA DE CORRIENTES ===\n",
        "Rf = 0.2        # Resistencia del filtro [ohm]\n",
        "Lf = 1.8e-3     # Inductancia del filtro [H]\n",
        "omega = 2 * 3.1416 * f  # Frecuencia angular [rad/s]\n",
        "\n",
        "# Tensiones de control (provenientes del PI de corriente)\n",
        "# Por ahora valores iniciales, se actualizarán en (9)-(10)\n",
        "u_cd = 0\n",
        "u_cq = 0\n",
        "\n",
        "di_od_dt = (-Rf * i_od + omega * Lf * i_oq + u_cd - u_od) / Lf   # (5)\n",
        "di_oq_dt = (-Rf * i_oq - omega * Lf * i_od + u_cq - u_oq) / Lf   # (6)\n",
        "\n",
        "print(\"=== (5) y (6): Derivadas de corrientes ===\")\n",
        "print(f\"di_od/dt = {di_od_dt:.6f} A/s\")\n",
        "print(f\"di_oq/dt = {di_oq_dt:.6f} A/s\")\n"
      ],
      "metadata": {
        "colab": {
          "base_uri": "https://localhost:8080/"
        },
        "id": "2LmJeGOwDBq2",
        "outputId": "ef524409-60a7-4cb0-ada5-6895507f88d2"
      },
      "execution_count": 5,
      "outputs": [
        {
          "output_type": "stream",
          "name": "stdout",
          "text": [
            "=== (5) y (6): Derivadas de corrientes ===\n",
            "di_od/dt = -185120.127778 A/s\n",
            "di_oq/dt = -34369.343333 A/s\n"
          ]
        }
      ]
    },
    {
      "cell_type": "code",
      "source": [
        "# === ECUACIONES (7) Y (8): CONTROL DE TENSIÓN ===\n",
        "C = 0.55e-3    # Capacitancia [F]\n",
        "Kvp = 2.0      # Ganancia proporcional PI tensión\n",
        "Kvi = 30.0     # Ganancia integral PI tensión\n",
        "\n",
        "# Potencia reactiva y tensión de referencia\n",
        "Q = 1.5 * (u_od * i_oq - u_oq * i_od)\n",
        "u_ref_od = U0 - mq * Q\n",
        "\n",
        "# Integradores del control de tensión\n",
        "try:\n",
        "    x1\n",
        "    x2\n",
        "except NameError:\n",
        "    x1, x2 = 0.0, 0.0\n",
        "\n",
        "dt = 1e-4\n",
        "dx1_dt = Kvi * (u_ref_od - u_od)\n",
        "dx2_dt = Kvi * (0 - u_oq)\n",
        "x1 += dx1_dt * dt\n",
        "x2 += dx2_dt * dt\n",
        "\n",
        "# Corrientes de referencia\n",
        "i_ref_ld = i_od - omega * C * u_oq + Kvp * (u_ref_od - u_od) + x1\n",
        "i_ref_lq = i_oq + omega * C * u_od + Kvp * (0 - u_oq) + x2\n",
        "\n",
        "print(\"=== (7) y (8): Control de tensión ===\")\n",
        "print(f\"u_ref_od = {u_ref_od:.4f} V\")\n",
        "print(f\"i_ref_ld = {i_ref_ld:.4f} A, i_ref_lq = {i_ref_lq:.4f} A\")\n"
      ],
      "metadata": {
        "colab": {
          "base_uri": "https://localhost:8080/"
        },
        "id": "Lha_IfL0DEt1",
        "outputId": "45764792-bf5b-41c0-b45f-a58b130c143f"
      },
      "execution_count": 6,
      "outputs": [
        {
          "output_type": "stream",
          "name": "stdout",
          "text": [
            "=== (7) y (8): Control de tensión ===\n",
            "u_ref_od = 324.4500 V\n",
            "i_ref_ld = 72.1654 A, i_ref_lq = 60.5045 A\n"
          ]
        }
      ]
    },
    {
      "cell_type": "code",
      "source": [
        "# === ECUACIONES (9) Y (10): CONTROL DE CORRIENTE ===\n",
        "Kcp = 0.5\n",
        "Kci = 20.0   # Ajustado para estabilidad\n",
        "dt = 1e-4\n",
        "\n",
        "try:\n",
        "    xi_d\n",
        "    xi_q\n",
        "except NameError:\n",
        "    xi_d, xi_q = 0.0, 0.0\n",
        "\n",
        "err_id = i_ref_ld - i_od\n",
        "err_iq = i_ref_lq - i_oq\n",
        "\n",
        "xi_d += Kci * err_id * dt\n",
        "xi_q += Kci * err_iq * dt\n",
        "\n",
        "u_cd = Kcp * err_id + xi_d\n",
        "u_cq = Kcp * err_iq + xi_q\n",
        "\n",
        "print(\"=== (9) y (10): Control de corriente ===\")\n",
        "print(f\"u_cd = {u_cd:.4f} V\")\n",
        "print(f\"u_cq = {u_cq:.4f} V\")\n"
      ],
      "metadata": {
        "colab": {
          "base_uri": "https://localhost:8080/"
        },
        "id": "qCgMJ2WEDU6k",
        "outputId": "de3d7cdc-1c0a-41a8-ba6c-c7c7549ba572"
      },
      "execution_count": 7,
      "outputs": [
        {
          "output_type": "stream",
          "name": "stdout",
          "text": [
            "=== (9) y (10): Control de corriente ===\n",
            "u_cd = -6.4430 V\n",
            "u_cq = 17.8233 V\n"
          ]
        }
      ]
    },
    {
      "cell_type": "code",
      "source": [
        "import numpy as np\n",
        "\n",
        "# Vector de estados\n",
        "x = np.array([i_od, i_oq, u_od, u_oq, x1, x2, xi_d, xi_q])\n",
        "\n",
        "# Entradas (por ejemplo, las referencias o voltajes del bus)\n",
        "u_vec = np.array([u_ref_od, 0])\n",
        "\n",
        "# Ejemplo: matrices del modelo linealizado (solo ejemplo ilustrativo)\n",
        "A = np.zeros((8, 8))\n",
        "B = np.zeros((8, 2))\n",
        "C = np.eye(8)\n",
        "D = np.zeros((8, 2))\n",
        "\n",
        "# Dinámica lineal general\n",
        "dx_dt = A @ x + B @ u_vec\n",
        "y = C @ x + D @ u_vec\n"
      ],
      "metadata": {
        "id": "Dqv7oRkdDjF5"
      },
      "execution_count": 8,
      "outputs": []
    },
    {
      "cell_type": "code",
      "source": [
        "# Ecuaciones 111 - 16\n",
        "import numpy as np\n",
        "\n",
        "def modelo_dinamico(t, x, params):\n",
        "    # Desempaquetar variables de estado\n",
        "    i_od, i_oq, u_od, u_oq, x1, x2, xi_d, xi_q = x\n",
        "\n",
        "    # Parámetros (puedes pasar un diccionario con los tuyos)\n",
        "    Rf, Lf, C, omega = params['Rf'], params['Lf'], params['C'], params['omega']\n",
        "    Kvp, Kvi, Kcp, Kci = params['Kvp'], params['Kvi'], params['Kcp'], params['Kci']\n",
        "    U0, mq = params['U0'], params['mq']\n",
        "\n",
        "    # --- ECUACIONES 5–6 ---\n",
        "    u_cd = Kcp*(i_ref_ld - i_od) + xi_d\n",
        "    u_cq = Kcp*(i_ref_lq - i_oq) + xi_q\n",
        "\n",
        "    di_od = (-Rf*i_od + omega*Lf*i_oq + u_cd - u_od) / Lf\n",
        "    di_oq = (-Rf*i_oq - omega*Lf*i_od + u_cq - u_oq) / Lf\n",
        "\n",
        "    # --- ECUACIONES 7–8 ---\n",
        "    Q = 1.5 * (u_od*i_oq - u_oq*i_od)\n",
        "    u_ref_od = U0 - mq*Q\n",
        "    dx1 = Kvi * (u_ref_od - u_od)\n",
        "    dx2 = Kvi * (0 - u_oq)\n",
        "\n",
        "    # --- ECUACIONES 9–10 ---\n",
        "    err_d = i_ref_ld - i_od\n",
        "    err_q = i_ref_lq - i_oq\n",
        "    dxi_d = Kci * err_d\n",
        "    dxi_q = Kci * err_q\n",
        "\n",
        "    # --- AGRUPAR TODO ---\n",
        "    dx = np.array([di_od, di_oq, 0, 0, dx1, dx2, dxi_d, dxi_q])\n",
        "    return dx\n"
      ],
      "metadata": {
        "id": "UbP3RiL-Fhrq"
      },
      "execution_count": 9,
      "outputs": []
    },
    {
      "cell_type": "code",
      "source": [
        "params = {\n",
        "    'Rf': Rf,\n",
        "    'Lf': Lf,\n",
        "    'C': C,\n",
        "    'omega': omega,\n",
        "    'Kvp': Kvp,\n",
        "    'Kvi': Kvi,\n",
        "    'Kcp': Kcp,\n",
        "    'Kci': Kci,\n",
        "    'U0': U0,\n",
        "    'mq': mq\n",
        "}"
      ],
      "metadata": {
        "id": "EdDVyhMaHDP1"
      },
      "execution_count": 10,
      "outputs": []
    },
    {
      "cell_type": "code",
      "source": [
        "## Análisis de estabilidad local (ecuaciones 17 y 18)\n",
        "import numpy as np\n",
        "from scipy.optimize import fsolve\n",
        "from numpy.linalg import eig\n",
        "\n",
        "def jacobiano(f, x_eq, params, h=1e-6):\n",
        "    n = len(x_eq)\n",
        "    J = np.zeros((n, n))\n",
        "    f0 = f(0, x_eq, params)\n",
        "    for i in range(n):\n",
        "        x_temp = x_eq.copy()\n",
        "        x_temp[i] += h\n",
        "        fi = f(0, x_temp, params)\n",
        "        J[:, i] = (fi - f0) / h\n",
        "    return J\n",
        "\n",
        "x_eq = np.array([i_od, i_oq, u_od, u_oq, x1, x2, xi_d, xi_q])\n",
        "J = jacobiano(modelo_dinamico, x_eq, params)\n",
        "\n",
        "#: autovalores del Jacobiano ---\n",
        "eigvals, eigvecs = eig(J)\n",
        "\n",
        "print(\"=== Análisis de estabilidad local (ecuaciones 17 y 18) ===\")\n",
        "print(\"Autovalores del Jacobiano:\")\n",
        "print(eigvals)\n",
        "\n",
        "# Verificación de estabilidad\n",
        "if np.all(np.real(eigvals) < 0):\n",
        "    print(\"✅ El sistema es estable en este punto de equilibrio.\")\n",
        "else:\n",
        "    print(\"⚠️ El sistema presenta posible inestabilidad (bifurcación).\")\n"
      ],
      "metadata": {
        "colab": {
          "base_uri": "https://localhost:8080/"
        },
        "id": "QFQnSjOdF3_P",
        "outputId": "5218f5b7-8c95-4cca-9545-1c66afe87a89"
      },
      "execution_count": 13,
      "outputs": [
        {
          "output_type": "stream",
          "name": "stdout",
          "text": [
            "=== Análisis de estabilidad local (ecuaciones 17 y 18) ===\n",
            "Autovalores del Jacobiano:\n",
            "[   0.          +0.j         -371.77092132+321.09041682j\n",
            " -371.77092132-321.09041682j  -17.11799008 +14.78443379j\n",
            "  -17.11799008 -14.78443379j    0.          +0.j\n",
            "    0.          +0.j            0.          +0.j        ]\n",
            "⚠️ El sistema presenta posible inestabilidad (bifurcación).\n"
          ]
        }
      ]
    },
    {
      "cell_type": "code",
      "source": [
        "L_s = 1.2e-3      # Inductancia del lado del sistema [H]\n",
        "R_s = 0.2         # Resistencia del lado del sistema [Ω]\n",
        "L_g = 0.5e-3      # Inductancia del filtro de salida [H]\n",
        "R_g = 0.25        # Resistencia del filtro [Ω]\n",
        "# === ECUACIONES (19)–(22): Dinámica completa del sistema ===\n",
        "\n",
        "def modelo_dq(t, x):\n",
        "    \"\"\"\n",
        "    Ecuaciones 19–22 del inversor monofásico en marco d–q.\n",
        "    Estado: [i_d, i_q, v_d, v_q]\n",
        "    \"\"\"\n",
        "    i_d, i_q, v_d, v_q = x\n",
        "\n",
        "    # Corrientes del filtro (relaciones diferenciales)\n",
        "    di_d_dt = ( -R_g * i_d + w_c * L_g * i_q + ONU - v_d ) / L_g\n",
        "    di_q_dt = ( -R_g * i_q - w_c * L_g * i_d + 0 - v_q ) / L_g\n",
        "\n",
        "    # Dinámica del capacitor del bus DC\n",
        "    dv_d_dt = ( i_d - (v_d / R_s) - w_c * C_dc * v_q ) / C_dc\n",
        "    dv_q_dt = ( i_q - (v_q / R_s) + w_c * C_dc * v_d ) / C_dc\n",
        "\n",
        "    return [di_d_dt, di_q_dt, dv_d_dt, dv_q_dt]\n",
        "\n",
        "\n",
        "# === CONDICIONES INICIALES ===\n",
        "x0 = [0, 0, ONU, 0]  # [i_d, i_q, v_d, v_q]\n",
        "t_span = (0, 0.2)    # 0.2 segundos de simulación\n",
        "t_eval = np.linspace(*t_span, 2000)\n",
        "\n",
        "# === SOLUCIÓN NUMÉRICA ===\n",
        "sol = solve_ivp(modelo_dq, t_span, x0, t_eval=t_eval)\n",
        "\n",
        "# === GRÁFICAS DE RESULTADOS ===\n",
        "plt.figure(figsize=(10, 6))\n",
        "plt.subplot(2, 1, 1)\n",
        "plt.plot(sol.t, sol.y[0], label=\"i_d\")\n",
        "plt.plot(sol.t, sol.y[1], label=\"i_q\")\n",
        "plt.title(\"Corrientes del inversor (ecuaciones 19–20)\")\n",
        "plt.xlabel(\"Tiempo [s]\")\n",
        "plt.ylabel(\"Corriente [A]\")\n",
        "plt.legend()\n",
        "plt.grid(True)\n",
        "\n",
        "plt.subplot(2, 1, 2)\n",
        "plt.plot(sol.t, sol.y[2], label=\"v_d\")\n",
        "plt.plot(sol.t, sol.y[3], label=\"v_q\")\n",
        "plt.title(\"Tensiones del capacitor (ecuaciones 21–22)\")\n",
        "plt.xlabel(\"Tiempo [s]\")\n",
        "plt.ylabel(\"Voltaje [V]\")\n",
        "plt.legend()\n",
        "plt.grid(True)\n",
        "\n",
        "plt.tight_layout()\n",
        "plt.show()"
      ],
      "metadata": {
        "colab": {
          "base_uri": "https://localhost:8080/",
          "height": 211
        },
        "id": "cH3byarFBTPs",
        "outputId": "1755f909-6646-4bd1-900e-a40c37a7655b"
      },
      "execution_count": 20,
      "outputs": [
        {
          "output_type": "error",
          "ename": "NameError",
          "evalue": "name 'ONU' is not defined",
          "traceback": [
            "\u001b[0;31m---------------------------------------------------------------------------\u001b[0m",
            "\u001b[0;31mNameError\u001b[0m                                 Traceback (most recent call last)",
            "\u001b[0;32m/tmp/ipython-input-2581682879.py\u001b[0m in \u001b[0;36m<cell line: 0>\u001b[0;34m()\u001b[0m\n\u001b[1;32m     24\u001b[0m \u001b[0;34m\u001b[0m\u001b[0m\n\u001b[1;32m     25\u001b[0m \u001b[0;31m# === CONDICIONES INICIALES ===\u001b[0m\u001b[0;34m\u001b[0m\u001b[0;34m\u001b[0m\u001b[0m\n\u001b[0;32m---> 26\u001b[0;31m \u001b[0mx0\u001b[0m \u001b[0;34m=\u001b[0m \u001b[0;34m[\u001b[0m\u001b[0;36m0\u001b[0m\u001b[0;34m,\u001b[0m \u001b[0;36m0\u001b[0m\u001b[0;34m,\u001b[0m \u001b[0mONU\u001b[0m\u001b[0;34m,\u001b[0m \u001b[0;36m0\u001b[0m\u001b[0;34m]\u001b[0m  \u001b[0;31m# [i_d, i_q, v_d, v_q]\u001b[0m\u001b[0;34m\u001b[0m\u001b[0;34m\u001b[0m\u001b[0m\n\u001b[0m\u001b[1;32m     27\u001b[0m \u001b[0mt_span\u001b[0m \u001b[0;34m=\u001b[0m \u001b[0;34m(\u001b[0m\u001b[0;36m0\u001b[0m\u001b[0;34m,\u001b[0m \u001b[0;36m0.2\u001b[0m\u001b[0;34m)\u001b[0m    \u001b[0;31m# 0.2 segundos de simulación\u001b[0m\u001b[0;34m\u001b[0m\u001b[0;34m\u001b[0m\u001b[0m\n\u001b[1;32m     28\u001b[0m \u001b[0mt_eval\u001b[0m \u001b[0;34m=\u001b[0m \u001b[0mnp\u001b[0m\u001b[0;34m.\u001b[0m\u001b[0mlinspace\u001b[0m\u001b[0;34m(\u001b[0m\u001b[0;34m*\u001b[0m\u001b[0mt_span\u001b[0m\u001b[0;34m,\u001b[0m \u001b[0;36m2000\u001b[0m\u001b[0;34m)\u001b[0m\u001b[0;34m\u001b[0m\u001b[0;34m\u001b[0m\u001b[0m\n",
            "\u001b[0;31mNameError\u001b[0m: name 'ONU' is not defined"
          ]
        }
      ]
    }
  ]
}